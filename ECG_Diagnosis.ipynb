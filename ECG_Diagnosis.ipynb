{
 "cells": [
  {
   "cell_type": "markdown",
   "metadata": {},
   "source": [
    "## **ECG Diagnosis Code**\n",
    "\n",
    "This code is based on the code developed here: https://doi.org/10.1038/s41467-020-15432-4"
   ]
  },
  {
   "cell_type": "markdown",
   "metadata": {},
   "source": [
    "**Define Libraries**"
   ]
  },
  {
   "cell_type": "code",
   "execution_count": 71,
   "metadata": {},
   "outputs": [],
   "source": [
    "from tensorflow.keras.layers import (\n",
    "    Input, Conv1D, MaxPooling1D, Dropout, BatchNormalization, Activation, Add, Flatten, Dense)\n",
    "from tensorflow.keras.models import Model, load_model\n",
    "from tensorflow.keras.optimizers import Adam\n",
    "from tensorflow.keras.callbacks import (ModelCheckpoint, TensorBoard, ReduceLROnPlateau,\n",
    "                                        CSVLogger, EarlyStopping)\n",
    "from sklearn.model_selection import KFold, RandomizedSearchCV\n",
    "from sklearn.decomposition import SparseCoder, PCA\n",
    "from sklearn.ensemble import RandomForestClassifier\n",
    "from sklearn.metrics import precision_score, f1_score, recall_score, confusion_matrix, accuracy_score, make_scorer\n",
    "import matplotlib.pyplot as plt\n",
    "import numpy as np\n",
    "import h5py\n",
    "import math\n",
    "import pandas as pd\n",
    "from tensorflow.keras.utils import Sequence\n",
    "import numpy as np\n",
    "import os\n",
    "import pickle\n",
    "import neurokit2 as nk\n",
    "from scipy.signal import welch\n",
    "import time"
   ]
  },
  {
   "cell_type": "code",
   "execution_count": 72,
   "metadata": {},
   "outputs": [],
   "source": [
    "cwd = os.getcwd()\n",
    "\n",
    "if not os.path.exists(cwd + '\\\\outputs\\\\'):\n",
    "    os.makedirs(cwd + '\\\\outputs\\\\')"
   ]
  },
  {
   "cell_type": "markdown",
   "metadata": {},
   "source": [
    "**Load the data**"
   ]
  },
  {
   "cell_type": "markdown",
   "metadata": {},
   "source": [
    "First Load in the test data"
   ]
  },
  {
   "cell_type": "code",
   "execution_count": 73,
   "metadata": {},
   "outputs": [],
   "source": [
    "#Load in test data\n",
    "path_to_hdf5 = cwd + '\\\\data\\\\ecg_tracings.hdf5'\n",
    "dataset_name = 'tracings'\n",
    "path_to_csv = cwd + '\\\\data\\\\gold_standard.csv'\n",
    "\n",
    "#Order is based on test set csv\n",
    "abnormalities = ['1dAVb','RBBB', 'LBBB', 'SB',  'AF', 'ST']\n",
    "\n",
    "labels_test = pd.read_csv(path_to_csv).values\n",
    "f = h5py.File(path_to_hdf5, \"r\")\n",
    "tracings_test = f[dataset_name][()]\n",
    "f.close()\n",
    "fs = 400 #Hz"
   ]
  },
  {
   "cell_type": "markdown",
   "metadata": {},
   "source": [
    "Investigation of the class probabilities in the test set (this is done in the study as well)"
   ]
  },
  {
   "cell_type": "code",
   "execution_count": 74,
   "metadata": {},
   "outputs": [
    {
     "data": {
      "text/plain": [
       "Text(0.5, 0, 'Cardiac Abnormality')"
      ]
     },
     "execution_count": 74,
     "metadata": {},
     "output_type": "execute_result"
    },
    {
     "data": {
      "image/png": "[encoded data removed]",
      "text/plain": [
       "<Figure size 432x288 with 1 Axes>"
      ]
     },
     "metadata": {
      "needs_background": "light"
     },
     "output_type": "display_data"
    }
   ],
   "source": [
    "def FindPercents(labels:np.ndarray, average: bool=True):\n",
    "    bias = []\n",
    "    for ii in range(labels.shape[-1]):\n",
    "        bias.append(np.sum(labels[:,ii])/len(labels[:,ii]))\n",
    "    \n",
    "    if average:\n",
    "        bias = np.mean(bias)\n",
    "        return bias\n",
    "    else:\n",
    "        return np.array(bias)\n",
    "\n",
    "test_per = FindPercents(labels_test, average=False)\n",
    "for ii, cardiac_class in enumerate(abnormalities):\n",
    "    plt.bar(cardiac_class, test_per[ii]*100, alpha = 0.5, align = 'center')\n",
    "plt.ylabel('Frequency %')\n",
    "plt.xlabel('Cardiac Abnormality')"
   ]
  },
  {
   "cell_type": "markdown",
   "metadata": {},
   "source": [
    "**Saving Data Functions**\n",
    "\n",
    "A function for saving data"
   ]
  },
  {
   "cell_type": "code",
   "execution_count": 75,
   "metadata": {},
   "outputs": [],
   "source": [
    "def SaveObject(object_to_save, save_path):\n",
    "    '''Load path must have the file name with the .pickle extension'''\n",
    "    pickle_out = open(save_path, 'wb')\n",
    "    pickle.dump(object_to_save, pickle_out)\n",
    "    pickle_out.close()"
   ]
  },
  {
   "cell_type": "markdown",
   "metadata": {},
   "source": [
    "Function for loading data"
   ]
  },
  {
   "cell_type": "code",
   "execution_count": 76,
   "metadata": {},
   "outputs": [],
   "source": [
    "def LoadObject(load_path):\n",
    "    infile = open(load_path, 'rb')\n",
    "    Loaded_object = pickle.load(infile)\n",
    "    infile.close()\n",
    "\n",
    "    return Loaded_object"
   ]
  },
  {
   "cell_type": "markdown",
   "metadata": {},
   "source": [
    "## Current Model"
   ]
  },
  {
   "cell_type": "markdown",
   "metadata": {},
   "source": [
    "**Define the NN model**"
   ]
  },
  {
   "cell_type": "code",
   "execution_count": 77,
   "metadata": {},
   "outputs": [],
   "source": [
    "class ResidualUnit(object):\n",
    "    def __init__(self, n_samples_out, n_filters_out, kernel_initializer='he_normal',\n",
    "                 dropout_keep_prob=0.8, kernel_size=17, preactivation=True,\n",
    "                 postactivation_bn=False, activation_function='relu'):\n",
    "        self.n_samples_out = n_samples_out\n",
    "        self.n_filters_out = n_filters_out\n",
    "        self.kernel_initializer = kernel_initializer\n",
    "        self.dropout_rate = 1 - dropout_keep_prob\n",
    "        self.kernel_size = kernel_size\n",
    "        self.preactivation = preactivation\n",
    "        self.postactivation_bn = postactivation_bn\n",
    "        self.activation_function = activation_function\n",
    "\n",
    "    def _skip_connection(self, y, downsample, n_filters_in):\n",
    "        \"\"\"Implement skip connection.\"\"\"\n",
    "        # Deal with downsampling\n",
    "        if downsample > 1:\n",
    "            y = MaxPooling1D(downsample, strides=downsample, padding='same')(y)\n",
    "        elif downsample == 1:\n",
    "            y = y\n",
    "        else:\n",
    "            raise ValueError(\"Number of samples should always decrease.\")\n",
    "        # Deal with n_filters dimension increase\n",
    "        if n_filters_in != self.n_filters_out:\n",
    "            # This is one of the two alternatives presented in ResNet paper\n",
    "            # Other option is to just fill the matrix with zeros.\n",
    "            y = Conv1D(self.n_filters_out, 1, padding='same',\n",
    "                       use_bias=False, kernel_initializer=self.kernel_initializer)(y)\n",
    "        return y\n",
    "\n",
    "    def _batch_norm_plus_activation(self, x):\n",
    "        if self.postactivation_bn:\n",
    "            x = Activation(self.activation_function)(x)\n",
    "            x = BatchNormalization(center=False, scale=False)(x)\n",
    "        else:\n",
    "            x = BatchNormalization()(x)\n",
    "            x = Activation(self.activation_function)(x)\n",
    "        return x\n",
    "\n",
    "    def __call__(self, inputs):\n",
    "        \"\"\"Residual unit.\"\"\"\n",
    "        x, y = inputs\n",
    "        n_samples_in = y.shape[1]\n",
    "        downsample = n_samples_in // self.n_samples_out\n",
    "        n_filters_in = y.shape[2]\n",
    "        y = self._skip_connection(y, downsample, n_filters_in)\n",
    "        # 1st layer\n",
    "        x = Conv1D(self.n_filters_out, self.kernel_size, padding='same',\n",
    "                   use_bias=False, kernel_initializer=self.kernel_initializer)(x)\n",
    "        x = self._batch_norm_plus_activation(x)\n",
    "        if self.dropout_rate > 0:\n",
    "            x = Dropout(self.dropout_rate)(x)\n",
    "\n",
    "        # 2nd layer\n",
    "        x = Conv1D(self.n_filters_out, self.kernel_size, strides=downsample,\n",
    "                   padding='same', use_bias=False,\n",
    "                   kernel_initializer=self.kernel_initializer)(x)\n",
    "        if self.preactivation:\n",
    "            x = Add()([x, y])  # Sum skip connection and main connection\n",
    "            y = x\n",
    "            x = self._batch_norm_plus_activation(x)\n",
    "            if self.dropout_rate > 0:\n",
    "                x = Dropout(self.dropout_rate)(x)\n",
    "        else:\n",
    "            x = BatchNormalization()(x)\n",
    "            x = Add()([x, y])  # Sum skip connection and main connection\n",
    "            x = Activation(self.activation_function)(x)\n",
    "            if self.dropout_rate > 0:\n",
    "                x = Dropout(self.dropout_rate)(x)\n",
    "            y = x\n",
    "        return [x, y]\n",
    "\n",
    "\n",
    "def get_model(n_classes, last_layer='sigmoid'):\n",
    "    kernel_size = 16\n",
    "    kernel_initializer = 'he_normal'\n",
    "    signal = Input(shape=(4096, 12), dtype=np.float32, name='signal')\n",
    "    x = signal\n",
    "    x = Conv1D(64, kernel_size, padding='same', use_bias=False,\n",
    "               kernel_initializer=kernel_initializer)(x)\n",
    "    x = BatchNormalization()(x)\n",
    "    x = Activation('relu')(x)\n",
    "    x, y = ResidualUnit(1024, 128, kernel_size=kernel_size,\n",
    "                        kernel_initializer=kernel_initializer)([x, x])\n",
    "    x, y = ResidualUnit(256, 196, kernel_size=kernel_size,\n",
    "                        kernel_initializer=kernel_initializer)([x, y])\n",
    "    x, y = ResidualUnit(64, 256, kernel_size=kernel_size,\n",
    "                        kernel_initializer=kernel_initializer)([x, y])\n",
    "    x, _ = ResidualUnit(16, 320, kernel_size=kernel_size,\n",
    "                        kernel_initializer=kernel_initializer)([x, y])\n",
    "    x = Flatten()(x)\n",
    "    diagn = Dense(n_classes, activation=last_layer, kernel_initializer=kernel_initializer)(x)\n",
    "    model = Model(signal, diagn)\n",
    "    return model\n"
   ]
  },
  {
   "cell_type": "markdown",
   "metadata": {},
   "source": [
    "**Load Parameters**\n",
    "\n",
    "Loading the parameters for the model that were found in the paper. We will call this our first model\n",
    "\n",
    "They trained 10 NN with different initializations. The choose the model to use based on the median micro average persion (mAP = 0.951). They had to choose the one right above the median since 10 is even so they can't take the median execution"
   ]
  },
  {
   "cell_type": "code",
   "execution_count": 78,
   "metadata": {},
   "outputs": [],
   "source": [
    "path_to_model = cwd + '\\\\model\\\\model.hdf5'\n",
    "\n",
    "loss = 'binary_crossentropy'\n",
    "lr = 0.001\n",
    "batch_size = 64\n",
    "opt = Adam(lr)\n",
    "\n",
    "model_1 = load_model(path_to_model, compile=False)\n",
    "model_1.compile(loss=loss, optimizer=Adam())"
   ]
  },
  {
   "cell_type": "markdown",
   "metadata": {},
   "source": [
    "**Data Fromatting**\n",
    "\n",
    "Here is the class for transforming the data into the proper format"
   ]
  },
  {
   "cell_type": "code",
   "execution_count": 79,
   "metadata": {},
   "outputs": [],
   "source": [
    "class ECGSequence(Sequence):\n",
    "    @classmethod\n",
    "    def get_train_and_val(cls, tracings: np.ndarray, labels: np.ndarray=None, batch_size=8, val_split=0.02):\n",
    "        n_samples = tracings.shape[0]\n",
    "        n_train = math.ceil(n_samples*(1-val_split))\n",
    "        train_seq = cls(tracings, labels, batch_size, end_idx=n_train)\n",
    "        valid_seq = cls(tracings, labels, batch_size, start_idx=n_train)\n",
    "        return train_seq, valid_seq\n",
    "\n",
    "    def __init__(self, tracings:np.ndarray, labels:np.ndarray=None, batch_size:int=8,\\\n",
    "        start_idx=0, end_idx=None):\n",
    "        if labels is None:\n",
    "            self.y = None\n",
    "        else:\n",
    "            self.y = labels\n",
    "        # Get tracings\n",
    "        self.x = tracings\n",
    "        self.batch_size = batch_size\n",
    "        if end_idx is None:\n",
    "            end_idx = len(self.x)\n",
    "        self.start_idx = start_idx\n",
    "        self.end_idx = end_idx\n",
    "\n",
    "    @property\n",
    "    def n_classes(self):\n",
    "        return self.y.shape[1]\n",
    "\n",
    "    def __getitem__(self, idx):\n",
    "        start = self.start_idx + idx * self.batch_size\n",
    "        end = min(start + self.batch_size, self.end_idx)\n",
    "        if self.y is None:\n",
    "            return np.array(self.x[start:end, :, :])\n",
    "        else:\n",
    "            return np.array(self.x[start:end, :, :]), np.array(self.y[start:end])\n",
    "\n",
    "    def __len__(self):\n",
    "        return math.ceil((self.end_idx - self.start_idx) / self.batch_size)\n"
   ]
  },
  {
   "cell_type": "markdown",
   "metadata": {},
   "source": [
    "**Training Function**\n",
    "\n",
    "We will also train the model with the data accessible for better comparison with the simplified model. We will call this the second model\n",
    "\n",
    "For sake of computational resources and time, the second model was only trained once instead of trained 10 times and then taking the model based on the median mAP"
   ]
  },
  {
   "cell_type": "code",
   "execution_count": 80,
   "metadata": {},
   "outputs": [],
   "source": [
    "class MyCNN:\n",
    "    def __init__(self, loss, opt, verbose, save_path=None):\n",
    "        # Optimization settings\n",
    "        self.callbacks = [ReduceLROnPlateau(monitor='val_loss',\n",
    "                            factor=0.1,\n",
    "                            patience=7,\n",
    "                            min_lr=lr / 100),\n",
    "                            EarlyStopping(monitor='val_loss', \n",
    "                            patience=9,  # Patience should be larger than the one in ReduceLROnPlateau\n",
    "                            min_delta=0.00001)]\n",
    "\n",
    "        self.loss = loss\n",
    "        self.optimizer = opt\n",
    "        self.verbose = verbose\n",
    "        self.model_save_path = save_path\n",
    "        \n",
    "        # Save the BEST model\n",
    "        if not self.model_save_path is None:\n",
    "            self.callbacks += [ModelCheckpoint(save_path, save_best_only=True, save_weights_only=True)]\n",
    "\n",
    "    def train(self, train_seq, val_seq):\n",
    "        self.model = get_model(train_seq.n_classes)\n",
    "        self.model.compile(loss=self.loss, optimizer=self.optimizer)\n",
    "        # Train neural network\n",
    "        self.model.fit(train_seq,\n",
    "            epochs=50,\n",
    "            initial_epoch=0,  # If you are continuing a interrupted section change here\n",
    "            callbacks=self.callbacks,\n",
    "            validation_data=val_seq,\n",
    "            verbose=self.verbose)\n",
    "\n",
    "    def predict(self, test_seq):\n",
    "        if not self.model_save_path is None:\n",
    "            self.model.load_weights(self.model_save_path)\n",
    "            \n",
    "        return self.model.predict(test_seq,  verbose=self.verbose)"
   ]
  },
  {
   "cell_type": "markdown",
   "metadata": {},
   "source": [
    "## Simplified Models\n",
    "\n",
    "Need to choose what model I want\n",
    "\n",
    "Going to have to use something like random forest because I need a multi-label classifier, or I can use sklearn.multioutput.MultiOutputClassifier and use any classifier\n",
    "\n",
    "I think all of the data for all 12 leads is the set of features for each sample"
   ]
  },
  {
   "cell_type": "markdown",
   "metadata": {},
   "source": [
    "**Define Models**"
   ]
  },
  {
   "cell_type": "code",
   "execution_count": 81,
   "metadata": {},
   "outputs": [],
   "source": [
    "class RF_Model:\n",
    "    def __init__(self, best_model = None, verbose = 1):\n",
    "        '''If best model is passed then the verbose is ignored'''\n",
    "        if best_model == None:\n",
    "            self.model = RandomForestClassifier(verbose=verbose, n_jobs=-1)\n",
    "        else:\n",
    "            self.model = best_model\n",
    "\n",
    "    def train(self, X: np.ndarray, y: np.ndarray):\n",
    "        self.model.fit(X,y)\n",
    "\n",
    "    def predict(self, X):\n",
    "        return self.model.predict(X)"
   ]
  },
  {
   "cell_type": "markdown",
   "metadata": {},
   "source": [
    "**Data Formatting**\n",
    "\n",
    "Extract features for the random forest model"
   ]
  },
  {
   "cell_type": "code",
   "execution_count": 82,
   "metadata": {},
   "outputs": [],
   "source": [
    "'''Going to use a combination of the papers, will use the frequency analysis instead of tsfresh and HRV analysis'''\n",
    "\n",
    "def ExtractECGFeatures(signals:np.ndarray, fs:float):\n",
    "\n",
    "    HRV_feature_names = ['HRV_MeanNN', 'HRV_SDNN', 'HRV_SDSD', 'HRV_MedianNN', 'HRV_MadNN', \\\n",
    "        'HRV_IQRNN', 'HRV_pNN50',  'HRV_pNN20', 'HRV_TINN']\n",
    "\n",
    "    for ii in range(signals.shape[0]):\n",
    "        HRV_sample_features = np.array([])\n",
    "        FD_sample_features = np.array([])\n",
    "        disconnected_leads = []\n",
    "        for jj in range(signals.shape[2]):\n",
    "\n",
    "            #Time Domain Features\n",
    "            ecg_cleaned = nk.ecg_clean(signals[ii,:,jj], sampling_rate=fs)\n",
    "            peaks, info = nk.ecg_peaks(ecg_cleaned, sampling_rate=fs, method='nabian2018')\n",
    "            if len(info['ECG_R_Peaks']) == 0:\n",
    "                disconnected_leads.append(jj)\n",
    "            else:\n",
    "                HRV_sample_features = np.append(HRV_sample_features, nk.hrv_time(peaks, sampling_rate=fs)[HRV_feature_names].to_numpy()[0])\n",
    "\n",
    "            #Frequency Domain Features\n",
    "            f, Pxx = welch(signals[ii,:,jj], fs = fs)\n",
    "            FD_sample_features = np.append(FD_sample_features, Pxx)\n",
    "\n",
    "        #Have to fix the features to the average for any leads that are disconnected\n",
    "        avg_HRV_features = np.array([np.nanmean(HRV_sample_features[kk:-1:len(HRV_feature_names)]) for kk in range(len(HRV_feature_names))])\n",
    "        for bad_lead in disconnected_leads:\n",
    "            lead_idx = int(bad_lead*len(HRV_feature_names))\n",
    "            HRV_sample_features = np.concatenate((HRV_sample_features[:lead_idx], avg_HRV_features, HRV_sample_features[lead_idx:]))\n",
    "\n",
    "        if ii == 0:\n",
    "            HRV_features = HRV_sample_features\n",
    "            FD_features = FD_sample_features\n",
    "        elif ii == 1:\n",
    "            HRV_features = np.r_[[HRV_features], [HRV_sample_features]]\n",
    "            FD_features = np.r_[[FD_features], [FD_sample_features]]\n",
    "        else:\n",
    "            HRV_features = np.r_[HRV_features, [HRV_sample_features]]\n",
    "            FD_features = np.r_[FD_features, [FD_sample_features]]\n",
    "\n",
    "    features = np.c_[HRV_features, FD_features]\n",
    "    return features\n",
    "\n",
    "try:\n",
    "    tracings_test_features = LoadObject(cwd + '\\\\data\\\\features.pickle')\n",
    "except:\n",
    "    tracings_test_features = ExtractECGFeatures(signals=tracings_test, fs=fs)\n",
    "    SaveObject(tracings_test_features, cwd + '\\\\data\\\\features.pickle')"
   ]
  },
  {
   "cell_type": "markdown",
   "metadata": {},
   "source": [
    "**Tune Hyperparameters**\n",
    "\n",
    "Tune the hyperparameters for the RF model with a randomized search over a parameter grid"
   ]
  },
  {
   "cell_type": "code",
   "execution_count": 83,
   "metadata": {},
   "outputs": [],
   "source": [
    "def custom_F1_score(y_true, y_pred):\n",
    "    f1_scores = []\n",
    "    for ii in range(y_true.shape[1]):\n",
    "        f1_scores.append(f1_score(y_true=y_true[:,ii], y_pred=y_pred[:,ii]))\n",
    "\n",
    "    return np.nanmean(f1_scores)\n",
    "\n",
    "multiclass_multioutput_f1_score = make_scorer(custom_F1_score)\n",
    "\n",
    "param_grid = {'n_estimators': np.linspace(10,500,50, dtype=int), \\\n",
    "    'criterion': ['gini', 'entropy'],\\\n",
    "    'max_depth': [2,5,7,10,12,15,17,20,25,30,None], \\\n",
    "    'min_samples_split': [2,5,10], \\\n",
    "    'min_samples_leaf': [1,2,4], \\\n",
    "    'max_features': ['auto', 'log2']}\n",
    "\n",
    "#Don't need to run through this every time since it takes so long\n",
    "try:\n",
    "    clf = LoadObject(cwd + '\\\\model\\\\RF_params.pickle')\n",
    "    best_RF = clf.best_estimator_\n",
    "except:\n",
    "    #Since the parameters have been found, no longer need to run this randomized search\n",
    "    best_RF = RandomForestClassifier(max_depth=15, min_samples_split=5, n_estimators=340)\n",
    "\n",
    "    '''RF_hyper_test = RandomForestClassifier()\n",
    "    kf = KFold(n_splits=3, shuffle=True, random_state = 42)\n",
    "    clf = RandomizedSearchCV(estimator=RF_hyper_test, param_distributions=param_grid, cv=kf, n_iter=100, scoring=multiclass_multioutput_f1_score)\n",
    "    clf.fit(tracings_test_features, labels_test)\n",
    "    best_RF = clf.best_estimator_\n",
    "    param_results_path = cwd + '\\\\outputs\\\\RF_params.pickle'\n",
    "    SaveObject(clf, param_results_path)'''\n"
   ]
  },
  {
   "cell_type": "markdown",
   "metadata": {},
   "source": [
    "## K-Fold\n",
    "\n",
    "K-fold procedure for validation of the models"
   ]
  },
  {
   "cell_type": "markdown",
   "metadata": {},
   "source": [
    "**Process Outputs**\n",
    "\n",
    "Function for processing the output probabilities from the CNNs\n",
    "\n",
    "Need to find the optimal thresholds to maximize F1 score for the test set before running the processing\n",
    "\n",
    "Will use these thresholds for the other CNN as well"
   ]
  },
  {
   "cell_type": "code",
   "execution_count": 84,
   "metadata": {},
   "outputs": [],
   "source": [
    "def FindThresholds(y_pred: np.ndarray, y_true: np.ndarray):\n",
    "    '''Optimize the thresholds based on the F1-score for the model 1 in the test set'''\n",
    "\n",
    "    start = 0.05\n",
    "    end = 0.8\n",
    "    step = 0.001\n",
    "    threshold_options = np.linspace(start,end,int((end-start)/step))\n",
    "    optimal_thresholds = np.array([])\n",
    "\n",
    "    for ii in range(y_pred.shape[1]):\n",
    "        #use the np greater for a list of thresholds and then find max F1-score and index it back to the thresholds\n",
    "        F1_scores = [f1_score(y_true=y_true[:,ii], y_pred=ProcessOutputs(y_pred[:,ii], threshold), zero_division=0) for threshold in threshold_options]\n",
    "        optimal_thresholds = np.append(optimal_thresholds, threshold_options[np.argmax(F1_scores)])\n",
    "\n",
    "    return optimal_thresholds\n",
    "\n",
    "\n",
    "def ProcessOutputs(outputs: np.ndarray, thresholds: np.ndarray):\n",
    "\n",
    "    threshold_check = np.array([np.greater_equal(sample, thresholds) for sample in outputs])\n",
    "    threshold_outputs = threshold_check.astype(int)\n",
    "    \n",
    "    return threshold_outputs\n",
    "\n",
    "\n",
    "#Find optimal thresholds with test set\n",
    "test_seq = ECGSequence(tracings_test, labels_test, batch_size=32)\n",
    "optimal_thresholds = FindThresholds(model_1.predict(test_seq), labels_test)"
   ]
  },
  {
   "cell_type": "markdown",
   "metadata": {},
   "source": [
    "**Metrics Function**\n",
    "\n",
    "Making a function to be able to call all of the metrics each fold"
   ]
  },
  {
   "cell_type": "code",
   "execution_count": 85,
   "metadata": {},
   "outputs": [],
   "source": [
    "def Score_initator(filler):\n",
    "\n",
    "        scores = dict()\n",
    "        metrics = ['Accuracy','Precision', 'Recall', 'Specificity', 'F1']\n",
    "        for ii, metric in enumerate(metrics):\n",
    "                scores[metric] = dict()\n",
    "                for zz, abnomality in enumerate(abnormalities):\n",
    "                        scores[metric][abnomality] = filler\n",
    "        \n",
    "        return scores\n",
    "\n",
    "def Find_metrics(scores: dict, y_true: np.ndarray, y_pred: np.ndarray):\n",
    "        \n",
    "        def _findProperScore(metric, y_true, y_pred):\n",
    "\n",
    "                m = confusion_matrix(y_true, y_pred, labels=[0, 1])\n",
    "\n",
    "                if metric == 'Accuracy':\n",
    "                        return accuracy_score(y_true, y_pred)\n",
    "                elif metric == 'Precision':\n",
    "                        return precision_score(y_true, y_pred, zero_division=0)  \n",
    "                elif metric == 'Recall':\n",
    "                        return recall_score(y_true, y_pred, zero_division=0)\n",
    "                elif metric == 'Specificity':\n",
    "                        return m[0, 0] * 1.0 / (m[0, 0] + m[0, 1])\n",
    "                else:\n",
    "                        return f1_score(y_true, y_pred, zero_division=0)\n",
    "\n",
    "        for jj, metric in enumerate(scores.keys()):\n",
    "                for ii, cardio_class in enumerate(scores[metric].keys()):\n",
    "\n",
    "                        scores[metric][cardio_class] = np.append(scores[metric][cardio_class], \\\n",
    "                                _findProperScore(metric, y_true[:,ii], y_pred[:,ii]))\n",
    "\n",
    "        return scores"
   ]
  },
  {
   "cell_type": "code",
   "execution_count": 61,
   "metadata": {},
   "outputs": [
    {
     "name": "stdout",
     "output_type": "stream",
     "text": [
      "Fold #1\n",
      "Fold #2\n",
      "Fold #3\n"
     ]
    }
   ],
   "source": [
    "kf = KFold(n_splits=3, shuffle=True, random_state = 42)\n",
    "\n",
    "m1_scores = Score_initator(filler = np.array([]))\n",
    "m2_scores = Score_initator(filler = np.array([]))\n",
    "m3_scores = Score_initator(filler = np.array([]))\n",
    "\n",
    "#Initilaize the models that need to be trained\n",
    "model_verbose = 0\n",
    "model_2 = MyCNN(loss, opt, verbose = model_verbose, save_path= cwd+ '\\\\model\\\\backup_model_best.hdf5')\n",
    "model_3 = RF_Model(best_model = best_RF, verbose = model_verbose)\n",
    "\n",
    "#Time Tracking\n",
    "time_tracking = {'M2_train_time': [], 'M3_train_time': [], 'M1_pred_time': [], 'M2_pred_time': [], 'M3_pred_time': []}\n",
    "\n",
    "fold_count =1 \n",
    "for train_index, test_index in kf.split(X = tracings_test[:,1,1]):\n",
    "\n",
    "        print('Fold #{}'.format(fold_count))\n",
    "\n",
    "        X_train, X_test, X_RF_train, X_RF_test = tracings_test[train_index,:,:], tracings_test[test_index,:,:], \\\n",
    "                tracings_test_features[train_index,:], tracings_test_features[test_index,:]\n",
    "        y_train, y_test = labels_test[train_index], labels_test[test_index]\n",
    "\n",
    "        #Put data in sequence for models 1 and 2 (CNN)\n",
    "        train_seq, val_seq = ECGSequence.get_train_and_val(X_train, y_train, batch_size=64)\n",
    "        test_seq = ECGSequence(X_test, y_test, batch_size=32)\n",
    "\n",
    "        #Train models\n",
    "        start = time.time()\n",
    "        model_2.train(train_seq, val_seq=val_seq)\n",
    "        end = time.time()\n",
    "        time_tracking['M2_train_time'].append(end-start)\n",
    "        start = time.time()\n",
    "        model_3.train(X = X_RF_train, y = y_train)\n",
    "        end = time.time()\n",
    "        time_tracking['M3_train_time'].append(end-start)\n",
    "\n",
    "        #Predict with the models - need to find optimal thresholds first for this test set\n",
    "        start = time.time()\n",
    "        m1_pred = ProcessOutputs(model_1.predict(test_seq, verbose=model_verbose), optimal_thresholds)\n",
    "        end = time.time()\n",
    "        time_tracking['M1_pred_time'].append(end-start)\n",
    "        start = time.time()\n",
    "        m2_pred = ProcessOutputs(model_2.predict(test_seq), optimal_thresholds)\n",
    "        end = time.time()\n",
    "        time_tracking['M2_pred_time'].append(end-start)\n",
    "        start = time.time()\n",
    "        m3_pred = model_3.predict(X_RF_test)\n",
    "        end = time.time()\n",
    "        time_tracking['M3_pred_time'].append(end-start)\n",
    "\n",
    "        #Find scores\n",
    "        m1_scores = Find_metrics(m1_scores, y_test, m1_pred)\n",
    "        m2_scores = Find_metrics(m2_scores, y_test, m2_pred)\n",
    "        m3_scores = Find_metrics(m3_scores, y_test, m3_pred)\n",
    "\n",
    "        fold_count+=1\n",
    "\n",
    "#Save scores\n",
    "m1_scores_path = cwd + '\\\\outputs\\\\pickleFiles\\\\m1_scores.pickle'\n",
    "SaveObject(m1_scores, m1_scores_path)\n",
    "m2_scores_path = cwd + '\\\\outputs\\\\pickleFiles\\\\m2_scores.pickle'\n",
    "SaveObject(m2_scores, m2_scores_path)\n",
    "m3_scores_path = cwd + '\\\\outputs\\\\pickleFiles\\\\m3_scores.pickle'\n",
    "SaveObject(m3_scores, m3_scores_path)\n",
    "\n",
    "#Save time\n",
    "time_path = cwd + '\\\\outputs\\\\pickleFiles\\\\time.pickle'\n",
    "SaveObject(time_tracking, time_path)\n",
    "\n"
   ]
  },
  {
   "cell_type": "markdown",
   "metadata": {},
   "source": [
    "**Process the scores**"
   ]
  },
  {
   "cell_type": "code",
   "execution_count": 70,
   "metadata": {},
   "outputs": [
    {
     "name": "stderr",
     "output_type": "stream",
     "text": [
      "C:\\Users\\Andrew Hart\\AppData\\Local\\Temp\\ipykernel_3896\\1623638715.py:15: RuntimeWarning: Mean of empty slice\n",
      "  avg_scores[sub_metric][cardiac_class] = {'Average': np.nanmean(sub_score),\\\n",
      "C:\\Users\\Andrew Hart\\AppData\\Local\\Temp\\ipykernel_3896\\1623638715.py:16: RuntimeWarning: Degrees of freedom <= 0 for slice.\n",
      "  'Var': np.nanvar(sub_score)}\n",
      "C:\\Users\\Andrew Hart\\AppData\\Local\\Temp\\ipykernel_3896\\1623638715.py:15: RuntimeWarning: Mean of empty slice\n",
      "  avg_scores[sub_metric][cardiac_class] = {'Average': np.nanmean(sub_score),\\\n",
      "C:\\Users\\Andrew Hart\\AppData\\Local\\Temp\\ipykernel_3896\\1623638715.py:16: RuntimeWarning: Degrees of freedom <= 0 for slice.\n",
      "  'Var': np.nanvar(sub_score)}\n"
     ]
    },
    {
     "data": {
      "image/png": "[encoded data removed]",
      "text/plain": [
       "<Figure size 1440x720 with 4 Axes>"
      ]
     },
     "metadata": {
      "needs_background": "light"
     },
     "output_type": "display_data"
    },
    {
     "data": {
      "image/png": "[encoded data removed]",
      "text/plain": [
       "<Figure size 1440x720 with 4 Axes>"
      ]
     },
     "metadata": {
      "needs_background": "light"
     },
     "output_type": "display_data"
    }
   ],
   "source": [
    "m1_scores_path = cwd + '\\\\outputs\\\\pickleFiles\\\\m1_scores.pickle'\n",
    "m2_scores_path = cwd + '\\\\outputs\\\\pickleFiles\\\\m2_scores.pickle'\n",
    "m3_scores_path = cwd + '\\\\outputs\\\\pickleFiles\\\\m3_scores.pickle'\n",
    "\n",
    "def ProcessScores(scores: dict, save_path: str, save_path_zero_inc:str):\n",
    "\n",
    "    avg_scores = Score_initator(filler=dict())\n",
    "    avg_scores_zero_inc = Score_initator(filler=dict())\n",
    "    for sub_metric in avg_scores.keys():\n",
    "        for ii, cardiac_class in enumerate(avg_scores[sub_metric].keys()):\n",
    "            sub_score = scores[sub_metric][cardiac_class]\n",
    "            avg_scores_zero_inc[sub_metric][cardiac_class] = {'Average': np.nanmean(sub_score),\\\n",
    "                'Var': np.nanvar(sub_score)}\n",
    "            sub_score[sub_score == 0.0] = np.NaN\n",
    "            avg_scores[sub_metric][cardiac_class] = {'Average': np.nanmean(sub_score),\\\n",
    "                'Var': np.nanvar(sub_score)}\n",
    "\n",
    "    score_output = pd.DataFrame.from_dict({(i,j): avg_scores[i][j]\n",
    "                           for i in avg_scores.keys() \n",
    "                           for j in avg_scores[i].keys()},\n",
    "                       orient='index')\n",
    "    \n",
    "    score_output_zero_inc = pd.DataFrame.from_dict({(i,j): avg_scores_zero_inc[i][j]\n",
    "                           for i in avg_scores_zero_inc.keys() \n",
    "                           for j in avg_scores_zero_inc[i].keys()},\n",
    "                       orient='index')\n",
    "\n",
    "    score_output.to_csv(save_path)\n",
    "    score_output_zero_inc.to_csv(save_path_zero_inc)\n",
    "\n",
    "    test = score_output.to_numpy()\n",
    "\n",
    "    score_1 = np.array([[np.nanmean(score_output.to_numpy()[ii:ii+6,0], axis = 0), np.nanvar(score_output.to_numpy()[ii:ii+6,0], axis = 0)] \\\n",
    "        for ii in range(0,score_output.to_numpy().shape[0],6)])\n",
    "    score_2 = np.array([[np.nanmean(score_output_zero_inc.to_numpy()[ii:ii+6,0], axis = 0), np.nanvar(score_output_zero_inc.to_numpy()[ii:ii+6,0], axis = 0)] \\\n",
    "        for ii in range(0,score_output_zero_inc.to_numpy().shape[0],6)])\n",
    "\n",
    "    return score_1, score_2\n",
    "\n",
    "\n",
    "def PlotScores(models: list, m1_scores: np.ndarray, m2_scores: np.ndarray, m3_scores: np.ndarray, metric_names):\n",
    "\n",
    "    paper_avg = [1,0.924,0.935,0.997,0.926]\n",
    "    paper_var = [0,0.005,0.007,0.000,0.003]\n",
    "\n",
    "    fig, axs = plt.subplots(1,4, figsize = (20,10), sharex = True)\n",
    "    for ii in range(m1_scores.shape[0]):\n",
    "        if ii == 0:\n",
    "            continue\n",
    "\n",
    "        axs[ii-1].bar(models[0], paper_avg[ii], \n",
    "            yerr=paper_var[ii], align='center',\n",
    "            alpha=0.5, ecolor='black',\n",
    "            capsize=10)\n",
    "        axs[ii-1].bar(models[1], m1_scores[ii,0], \n",
    "            yerr=m1_scores[ii,1], align='center',\n",
    "            alpha=0.5, ecolor='black',\n",
    "            capsize=10)\n",
    "        axs[ii-1].bar(models[2], m2_scores[ii,0], \n",
    "            yerr=m2_scores[ii,1], align='center',\n",
    "            alpha=0.5, ecolor='black',\n",
    "            capsize=10)\n",
    "        axs[ii-1].bar(models[3], m3_scores[ii,0], \n",
    "            yerr=m3_scores[ii,1], align='center',\n",
    "            alpha=0.5, ecolor='black',\n",
    "            capsize=10)\n",
    "        axs[ii-1].set_title(metric_names[ii])\n",
    "        axs[ii-1].set_ylim(0, 1.1)\n",
    "        if ii == 1:\n",
    "            axs[ii-1].set_ylabel('Score')\n",
    "        axs[ii-1].set_xlabel('Models')\n",
    "\n",
    "m1_scores = LoadObject(m1_scores_path)\n",
    "m2_scores = LoadObject(m2_scores_path)\n",
    "m3_scores = LoadObject(m3_scores_path)\n",
    "\n",
    "m1_avg_scores, m1_avg_scores_zero_div = ProcessScores(m1_scores, cwd + '\\\\outputs\\\\csvFiles\\\\m1_scores.csv',\\\n",
    "    cwd + '\\\\outputs\\\\csvFiles\\\\m1_scores_zero_div.csv')\n",
    "m2_avg_scores, m2_avg_scores_zero_div = ProcessScores(m2_scores, cwd + '\\\\outputs\\\\csvFiles\\\\m2_scores.csv',\\\n",
    "    cwd + '\\\\outputs\\\\csvFiles\\\\m2_scores_zero_div.csv')\n",
    "m3_avg_scores, m3_avg_scores_zero_div = ProcessScores(m3_scores, cwd + '\\\\outputs\\\\csvFiles\\\\m3_scores.csv',\\\n",
    "    cwd + '\\\\outputs\\\\csvFiles\\\\m3_scores_zero_div.csv')\n",
    "\n",
    "\n",
    "models = ['Study CNN','M1','M2','M3']\n",
    "\n",
    "PlotScores(models, m1_avg_scores, m2_avg_scores, m3_avg_scores, metric_names=list(m1_scores.keys()))\n",
    "PlotScores(models, m1_avg_scores_zero_div, m2_avg_scores_zero_div, m3_avg_scores_zero_div, metric_names=list(m1_scores.keys()))\n",
    "\n"
   ]
  },
  {
   "cell_type": "markdown",
   "metadata": {},
   "source": [
    "**Process Times**\n",
    "\n"
   ]
  },
  {
   "cell_type": "code",
   "execution_count": 69,
   "metadata": {},
   "outputs": [
    {
     "name": "stdout",
     "output_type": "stream",
     "text": [
      "                      Model 1      Model 2   Model 3\n",
      "Train Time [s]            NaN  2183.953105  4.066791\n",
      "Prediction Time [s]  2.853524     3.155539  0.098946\n"
     ]
    }
   ],
   "source": [
    "time_path = cwd + '\\\\outputs\\\\pickleFiles\\\\time.pickle'\n",
    "time_tracking = LoadObject(time_path)\n",
    "\n",
    "formatted_dict = {'Model 1': [np.NaN, np.mean(time_tracking['M1_pred_time'])],\\\n",
    "    'Model 2': [np.mean(time_tracking['M2_train_time']), np.mean(time_tracking['M2_pred_time'])],\\\n",
    "    'Model 3': [np.mean(time_tracking['M3_train_time']), np.mean(time_tracking['M3_pred_time'])]}\n",
    "\n",
    "formatted_times = pd.DataFrame(formatted_dict, index=['Train Time [s]', 'Prediction Time [s]'])\n",
    "\n",
    "formatted_times.to_csv(cwd + '\\\\outputs\\\\csvFiles\\\\time.csv')\n",
    "print(formatted_times)"
   ]
  }
 ],
 "metadata": {
  "interpreter": {
   "hash": "2db524e06e9f5f4ffedc911c917cb75e12dbc923643829bf417064a77eb14d37"
  },
  "kernelspec": {
   "display_name": "Python 3.8.10 64-bit",
   "language": "python",
   "name": "python3"
  },
  "language_info": {
   "codemirror_mode": {
    "name": "ipython",
    "version": 3
   },
   "file_extension": ".py",
   "mimetype": "text/x-python",
   "name": "python",
   "nbconvert_exporter": "python",
   "pygments_lexer": "ipython3",
   "version": "3.8.10"
  },
  "orig_nbformat": 4
 },
 "nbformat": 4,
 "nbformat_minor": 2
}
